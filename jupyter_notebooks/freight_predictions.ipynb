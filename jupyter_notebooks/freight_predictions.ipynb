{
 "cells": [
  {
   "cell_type": "code",
   "id": "initial_id",
   "metadata": {
    "collapsed": true,
    "ExecuteTime": {
     "end_time": "2025-06-22T21:37:08.388348Z",
     "start_time": "2025-06-22T21:37:05.321704Z"
    }
   },
   "source": [
    "import pandas as pd\n",
    "import numpy as np\n",
    "from statsmodels.tsa.arima.model import ARIMA\n",
    "from sklearn.preprocessing import StandardScaler\n",
    "from sklearn.linear_model import LinearRegression\n",
    "from sklearn.metrics import mean_squared_error\n",
    "import matplotlib.pyplot as plt\n",
    "import plotly.express as px"
   ],
   "execution_count": 1,
   "outputs": []
  },
  {
   "metadata": {
    "ExecuteTime": {
     "end_time": "2025-06-22T21:37:09.763982Z",
     "start_time": "2025-06-22T21:37:08.388348Z"
    }
   },
   "cell_type": "code",
   "source": [
    "df = pd.read_csv('freight_data/forecast_prep.csv')#, index_col=0)\n",
    "\n",
    "df['Year'] = pd.to_datetime(df['Year'], format='%Y')\n",
    "df.set_index('Year', inplace=True)\n",
    "df.index.freq = 'YS'\n",
    "commodity_mapping = {'5': 'Meat/seafood', '8': 'Alcoholic beverages',\n",
    "                     '9': 'Tobacco prods.', '21': 'Pharmaceuticals'}"
   ],
   "id": "4fc710c2bee7b591",
   "execution_count": 2,
   "outputs": []
  },
  {
   "metadata": {
    "ExecuteTime": {
     "end_time": "2025-06-22T21:37:09.763982Z",
     "start_time": "2025-06-22T21:37:09.763982Z"
    }
   },
   "cell_type": "code",
   "source": "df",
   "id": "fd876cbe2444dff0",
   "execution_count": null,
   "outputs": []
  },
  {
   "metadata": {},
   "cell_type": "markdown",
   "source": [
    "### Time-Series Analysis\n",
    "\n",
    "Rolling validation: 2013-2018, predicting 2019"
   ],
   "id": "9b4b281d62e61838"
  },
  {
   "metadata": {
    "ExecuteTime": {
     "end_time": "2025-06-19T21:07:21.874373Z",
     "start_time": "2025-06-19T21:07:21.843351Z"
    }
   },
   "cell_type": "code",
   "source": [
    "x_train = df.loc['2013':'2018'].copy()\n",
    "# x_valid = df.loc[['2022']].copy()\n",
    "x_test = df.loc[['2019']].copy()\n",
    "x_test = pd.DataFrame(x_test, columns=df.columns)"
   ],
   "id": "4e78b3ef2e961773",
   "execution_count": 4,
   "outputs": []
  },
  {
   "metadata": {
    "ExecuteTime": {
     "end_time": "2025-06-19T21:07:21.909121Z",
     "start_time": "2025-06-19T21:07:21.876383Z"
    }
   },
   "cell_type": "code",
   "source": "x_test",
   "id": "c0e91de6cf4203da",
   "execution_count": 5,
   "outputs": []
  },
  {
   "metadata": {
    "ExecuteTime": {
     "end_time": "2025-06-19T21:09:18.200977Z",
     "start_time": "2025-06-19T21:09:18.137220Z"
    }
   },
   "cell_type": "code",
   "source": [
    "scaler = StandardScaler()\n",
    "features = ['MEHOINUSGAA672N', 'GARETAILNQGSP', 'Population',\n",
    "            'tons_5_lagged', 'tons_8_lagged', 'tons_9_lagged', 'tons_21_lagged',\n",
    "            'value_5_lagged', 'value_8_lagged', 'value_9_lagged', 'value_21_lagged']\n",
    "value_columns = ['value_5', 'value_8', 'value_9', 'value_21']\n",
    "tons_columns = ['tons_5', 'tons_8', 'tons_9', 'tons_21']\n",
    "\n",
    "def apply_scaler(data_frame, features):\n",
    "    shipment_features = data_frame[features]\n",
    "    scaled_shipments = scaler.fit_transform(shipment_features)\n",
    "    scaled_shipments = pd.DataFrame(scaled_shipments, index=shipment_features.index, columns=shipment_features.columns)\n",
    "    data_frame[features] = scaled_shipments[features]\n",
    "    return data_frame\n",
    "\n",
    "x_train_scaled = apply_scaler(x_train, features)\n",
    "x_test_scaled = apply_scaler(x_test, features)"
   ],
   "id": "81b34d883f6259dc",
   "execution_count": 11,
   "outputs": []
  },
  {
   "metadata": {
    "ExecuteTime": {
     "end_time": "2025-06-19T21:09:18.633713Z",
     "start_time": "2025-06-19T21:09:18.601958Z"
    }
   },
   "cell_type": "code",
   "source": "x_train_scaled.index",
   "id": "b993b7d8fd49ae07",
   "execution_count": 12,
   "outputs": []
  },
  {
   "metadata": {
    "ExecuteTime": {
     "end_time": "2025-06-19T21:07:22.696662Z",
     "start_time": "2025-06-19T21:07:21.940876Z"
    }
   },
   "cell_type": "code",
   "source": [
    "fig = px.line(x_train_scaled, x=x_train_scaled.index, y='value_5', title='Value of Meat/Seafood freight shipments annually')\n",
    "fig.show()"
   ],
   "id": "c608283cc4934b24",
   "execution_count": 7,
   "outputs": []
  },
  {
   "metadata": {},
   "cell_type": "markdown",
   "source": "Model 1: For commodity group 5 (Meat/Seafood), Expected Value",
   "id": "2c3f3ff33dcde6cf"
  },
  {
   "metadata": {
    "ExecuteTime": {
     "end_time": "2025-06-19T21:07:22.718808Z",
     "start_time": "2025-06-19T21:07:22.696662Z"
    }
   },
   "cell_type": "code",
   "source": [
    "y_train = x_train_scaled['value_5']\n",
    "y_test = x_test_scaled['value_5']\n",
    "specific_cols = ['tons_8_lagged', 'tons_9_lagged', 'tons_21_lagged',\n",
    "                 'value_8_lagged', 'value_9_lagged', 'value_21_lagged']\n",
    "x_train_scaled = x_train_scaled.drop(columns=tons_columns+value_columns+specific_cols)\n",
    "x_test_scaled = x_test_scaled.drop(columns=tons_columns+value_columns+specific_cols)"
   ],
   "id": "7c86fcc8896fb578",
   "execution_count": 8,
   "outputs": []
  },
  {
   "metadata": {},
   "cell_type": "markdown",
   "source": "### Visualizing value_5 trend",
   "id": "a90282ffd3d0135e"
  },
  {
   "metadata": {
    "ExecuteTime": {
     "end_time": "2025-06-19T21:07:22.734895Z",
     "start_time": "2025-06-19T21:07:22.718808Z"
    }
   },
   "cell_type": "code",
   "source": "",
   "id": "b08d80c89f2efe47",
   "execution_count": 8,
   "outputs": []
  },
  {
   "metadata": {
    "ExecuteTime": {
     "end_time": "2025-06-19T21:07:22.750668Z",
     "start_time": "2025-06-19T21:07:22.734895Z"
    }
   },
   "cell_type": "code",
   "source": "x_train_scaled",
   "id": "6eb4627d4e0f5b01",
   "execution_count": 9,
   "outputs": []
  },
  {
   "metadata": {
    "ExecuteTime": {
     "end_time": "2025-06-19T21:07:25.849864Z",
     "start_time": "2025-06-19T21:07:22.750668Z"
    }
   },
   "cell_type": "code",
   "source": [
    "arima_order = (1, 1, 1)\n",
    "model = ARIMA(endog=y_train, exog=x_train_scaled, order=arima_order)\n",
    "model_fit = model.fit()\n",
    "\n",
    "start_index = y_test.index[0]\n",
    "end_index = y_test.index[-1]\n",
    "predictions = model_fit.predict(start=start_index, end=end_index, exog=x_test_scaled)\n",
    "predictions.index = y_test.index\n",
    "\n",
    "print(mean_squared_error(y_test, predictions))"
   ],
   "id": "bd14964f87b4f6c2",
   "execution_count": 10,
   "outputs": []
  },
  {
   "metadata": {},
   "cell_type": "markdown",
   "source": [
    "## Day 12\n",
    "\n",
    "Using 2017-2023 data instead for forecasting."
   ],
   "id": "43945c556361661a"
  },
  {
   "metadata": {
    "ExecuteTime": {
     "end_time": "2025-06-23T09:18:19.613594Z",
     "start_time": "2025-06-23T09:18:19.535168Z"
    }
   },
   "cell_type": "code",
   "source": [
    "import pandas as pd\n",
    "import numpy as np\n",
    "from statsmodels.tsa.arima.model import ARIMA\n",
    "from statsmodels.tsa.statespace.sarimax import SARIMAX\n",
    "from sklearn.preprocessing import StandardScaler\n",
    "from sklearn.linear_model import LinearRegression\n",
    "from sklearn.metrics import mean_squared_error, root_mean_squared_error\n",
    "import matplotlib.pyplot as plt\n",
    "import plotly.express as px\n",
    "from utils.feature_engineering import apply_scaler"
   ],
   "id": "1c94d1d8c134ac99",
   "execution_count": 73,
   "outputs": []
  },
  {
   "metadata": {
    "ExecuteTime": {
     "end_time": "2025-06-23T09:18:19.804015Z",
     "start_time": "2025-06-23T09:18:19.645153Z"
    }
   },
   "cell_type": "code",
   "source": [
    "shipment_df = pd.read_csv('../freight_data/processed/Georga_AIS_2012-2023_minus_inflation.csv')\n",
    "shipment_df.rename(columns={'Unnamed: 0': 'Year'}, inplace=True)"
   ],
   "id": "6670d8250dab3e21",
   "execution_count": 74,
   "outputs": []
  },
  {
   "metadata": {
    "ExecuteTime": {
     "end_time": "2025-06-23T09:18:20.030894Z",
     "start_time": "2025-06-23T09:18:19.970906Z"
    }
   },
   "cell_type": "code",
   "source": [
    "shipment_df = shipment_df[shipment_df.Year >= 2017]\n",
    "shipment_df['Year'] = pd.to_datetime(shipment_df['Year'], format='%Y')\n",
    "shipment_df.set_index('Year', inplace=True)\n",
    "shipment_df.index.freq = 'YS'"
   ],
   "id": "602997bd388fd5dc",
   "execution_count": 75,
   "outputs": []
  },
  {
   "metadata": {
    "ExecuteTime": {
     "end_time": "2025-06-23T09:18:20.405745Z",
     "start_time": "2025-06-23T09:18:20.362021Z"
    }
   },
   "cell_type": "code",
   "source": "shipment_df",
   "id": "d84751e9f53bdd9c",
   "execution_count": 76,
   "outputs": []
  },
  {
   "metadata": {
    "ExecuteTime": {
     "end_time": "2025-06-23T09:18:20.890057Z",
     "start_time": "2025-06-23T09:18:20.874323Z"
    }
   },
   "cell_type": "code",
   "source": [
    "# commodity_mapping = {'5': 'Meat/seafood', '8': 'Alcoholic beverages',\n",
    "#                      '9': 'Tobacco prods.', '21': 'Pharmaceuticals'}"
   ],
   "id": "2da6b7da049b43a5",
   "execution_count": 77,
   "outputs": []
  },
  {
   "metadata": {
    "ExecuteTime": {
     "end_time": "2025-06-23T09:18:21.521280Z",
     "start_time": "2025-06-23T09:18:21.482126Z"
    }
   },
   "cell_type": "code",
   "source": [
    "x_train = shipment_df.loc['2017': '2021'].copy()\n",
    "x_valid = shipment_df.loc[['2022']].copy()\n",
    "x_test = shipment_df.loc[['2023']].copy()\n",
    "# x_test = pd.DataFrame(x_test, columns=df.columns)"
   ],
   "id": "f81b95305fd8f233",
   "execution_count": 78,
   "outputs": []
  },
  {
   "metadata": {
    "ExecuteTime": {
     "end_time": "2025-06-23T09:18:21.970047Z",
     "start_time": "2025-06-23T09:18:21.935830Z"
    }
   },
   "cell_type": "code",
   "source": "x_train",
   "id": "eaf460ce97529aa5",
   "execution_count": 79,
   "outputs": []
  },
  {
   "metadata": {
    "ExecuteTime": {
     "end_time": "2025-06-23T09:18:22.691087Z",
     "start_time": "2025-06-23T09:18:22.643839Z"
    }
   },
   "cell_type": "code",
   "source": [
    "features = ['MEHOINUSGAA672N', 'GARETAILNQGSP', 'Population']\n",
    "x_train_scaled, fitted_scaler = apply_scaler(x_train, features, 'train', scaler=StandardScaler())\n",
    "x_valid_scaled, _ = apply_scaler(x_valid, features, mode='valid', scaler=fitted_scaler)"
   ],
   "id": "e440837642e51cb7",
   "execution_count": 80,
   "outputs": []
  },
  {
   "metadata": {
    "ExecuteTime": {
     "end_time": "2025-06-23T09:18:23.261224Z",
     "start_time": "2025-06-23T09:18:23.253295Z"
    }
   },
   "cell_type": "code",
   "source": [
    "y_train = x_train_scaled['value_5']\n",
    "y_valid = x_valid_scaled['value_5']"
   ],
   "id": "357b4504bfdf7aaf",
   "execution_count": 81,
   "outputs": []
  },
  {
   "metadata": {
    "ExecuteTime": {
     "end_time": "2025-06-23T09:18:23.860091Z",
     "start_time": "2025-06-23T09:18:23.838380Z"
    }
   },
   "cell_type": "code",
   "source": [
    "value_columns = ['value_5', 'value_8', 'value_9', 'value_21']\n",
    "tons_columns = ['tons_5', 'tons_8', 'tons_9', 'tons_21']\n",
    "\n",
    "x_train_scaled = x_train_scaled.drop(columns=tons_columns + value_columns)\n",
    "x_valid_scaled = x_valid_scaled.drop(columns=tons_columns + value_columns)"
   ],
   "id": "cbe6de0b3bfc0c34",
   "execution_count": 82,
   "outputs": []
  },
  {
   "metadata": {
    "ExecuteTime": {
     "end_time": "2025-06-23T09:19:20.333587Z",
     "start_time": "2025-06-23T09:19:17.351996Z"
    }
   },
   "cell_type": "code",
   "source": [
    "arima_order = (1, 2, 3)\n",
    "model = SARIMAX(endog=y_train, exog=x_train_scaled, order=arima_order)\n",
    "model_fit = model.fit()\n",
    "\n",
    "start_index = y_valid.index[0]\n",
    "end_index = y_valid.index[-1]\n",
    "\n",
    "predictions = model_fit.predict(start=start_index, end=end_index, exog=x_valid_scaled)\n",
    "predictions.index = y_valid.index\n",
    "\n",
    "print(\"Prediction on expected value\", predictions.iloc[0])\n",
    "print(\"Actual value\", y_valid.iloc[0])\n",
    "print(\"Mean square error:\", mean_squared_error(y_valid, predictions))\n",
    "print(\"Root mean square error:\", root_mean_squared_error(y_valid, predictions))"
   ],
   "id": "222f06ad38f50379",
   "execution_count": 84,
   "outputs": []
  },
  {
   "metadata": {},
   "cell_type": "code",
   "execution_count": null,
   "source": "",
   "id": "8856455c26b4c1a6",
   "outputs": []
  }
 ],
 "metadata": {
  "kernelspec": {
   "display_name": "Python 3",
   "language": "python",
   "name": "python3"
  },
  "language_info": {
   "codemirror_mode": {
    "name": "ipython",
    "version": 2
   },
   "file_extension": ".py",
   "mimetype": "text/x-python",
   "name": "python",
   "nbconvert_exporter": "python",
   "pygments_lexer": "ipython2",
   "version": "2.7.6"
  }
 },
 "nbformat": 4,
 "nbformat_minor": 5
}
