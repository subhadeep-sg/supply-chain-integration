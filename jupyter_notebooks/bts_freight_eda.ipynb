{
 "cells": [
  {
   "cell_type": "code",
   "id": "initial_id",
   "metadata": {
    "collapsed": true,
    "ExecuteTime": {
     "end_time": "2025-06-15T21:45:57.530780Z",
     "start_time": "2025-06-15T21:45:54.512623Z"
    }
   },
   "source": [
    "import pandas as pd\n",
    "import numpy as np"
   ],
   "execution_count": 1,
   "outputs": []
  },
  {
   "metadata": {
    "ExecuteTime": {
     "end_time": "2025-06-12T01:10:17.084085Z",
     "start_time": "2025-06-12T01:10:13.389474Z"
    }
   },
   "cell_type": "code",
   "source": [
    "df = pd.read_csv('freight_data/FAF5.6.1_State_2018-2023.csv')\n",
    "meta_df = pd.read_excel('freight_data/FAF5_metadata.xlsx', sheet_name=None)"
   ],
   "id": "d8f5db47c4b809b0",
   "execution_count": 2,
   "outputs": []
  },
  {
   "metadata": {},
   "cell_type": "markdown",
   "source": "### Read metadata",
   "id": "39971ecbe3a97310"
  },
  {
   "metadata": {
    "ExecuteTime": {
     "end_time": "2025-06-12T01:10:17.099755Z",
     "start_time": "2025-06-12T01:10:17.084085Z"
    }
   },
   "cell_type": "code",
   "source": [
    "metadata_filepath = 'freight_data/FAF5_metadata.xlsx'\n",
    "for sheet_name, _ in meta_df.items():\n",
    "    print(f\"\\nSheet: {sheet_name}\")"
   ],
   "id": "f8afb144f9ff0fe8",
   "execution_count": 3,
   "outputs": []
  },
  {
   "metadata": {
    "ExecuteTime": {
     "end_time": "2025-06-12T01:10:17.194041Z",
     "start_time": "2025-06-12T01:10:17.099755Z"
    }
   },
   "cell_type": "code",
   "source": [
    "state_labels = pd.read_excel(metadata_filepath, sheet_name='State')\n",
    "trade_type = pd.read_excel(metadata_filepath, sheet_name='Trade Type')\n",
    "commodity = pd.read_excel(metadata_filepath, sheet_name='Commodity (SCTG2)')"
   ],
   "id": "36f5f09f38b96c89",
   "execution_count": 4,
   "outputs": []
  },
  {
   "metadata": {
    "ExecuteTime": {
     "end_time": "2025-06-12T01:10:17.209890Z",
     "start_time": "2025-06-12T01:10:17.194041Z"
    }
   },
   "cell_type": "code",
   "source": "df.columns",
   "id": "6a391efb96cfbb86",
   "execution_count": 5,
   "outputs": []
  },
  {
   "metadata": {},
   "cell_type": "markdown",
   "source": "## Goal: Analyze domestic shipments in and out of Georgia.",
   "id": "db716a7affa0492d"
  },
  {
   "metadata": {},
   "cell_type": "markdown",
   "source": "### According to metadata, the state of Georgia has numeric label 13 and all domestic flow is labelled 1 in trade type. Dropping foreign flow columns",
   "id": "fe228f726559779f"
  },
  {
   "metadata": {
    "ExecuteTime": {
     "end_time": "2025-06-12T01:10:17.272977Z",
     "start_time": "2025-06-12T01:10:17.211893Z"
    }
   },
   "cell_type": "code",
   "source": [
    "domestic_df = df[((df.dms_destst == 13) | (df.dms_origst == 13)) & df.trade_type == 1]\n",
    "\n",
    "foreign_columns = [col for col in domestic_df.columns if 'fr_' in col] + ['trade_type']\n",
    "domestic_df = domestic_df.drop(columns = foreign_columns)"
   ],
   "id": "bc27e0a0918841c9",
   "execution_count": 6,
   "outputs": []
  },
  {
   "metadata": {
    "ExecuteTime": {
     "end_time": "2025-06-12T01:10:17.320292Z",
     "start_time": "2025-06-12T01:10:17.272977Z"
    }
   },
   "cell_type": "code",
   "source": "domestic_df",
   "id": "179e6c5d7a6d2e25",
   "execution_count": 7,
   "outputs": []
  },
  {
   "metadata": {},
   "cell_type": "markdown",
   "source": [
    "#### Day 2\n",
    "### Selecting customer oriented commodities"
   ],
   "id": "5810ea99c2469369"
  },
  {
   "metadata": {},
   "cell_type": "markdown",
   "source": "Meat/seafood, Alcoholic beverages, Tobacco prods., Pharmaceuticals (5, 8, 9, 21) - potentially customer oriented commodities",
   "id": "cb3db4573b590128"
  },
  {
   "metadata": {
    "ExecuteTime": {
     "end_time": "2025-06-12T01:10:17.352062Z",
     "start_time": "2025-06-12T01:10:17.320292Z"
    }
   },
   "cell_type": "code",
   "source": [
    "commodity_mapping = {'5': 'Meat/seafood', '8': 'Alcoholic beverages', '9': 'Tobacco prods.', '21': 'Pharmaceuticals'}\n",
    "customer_specific_df = domestic_df[(domestic_df.sctg2 == 5) | (domestic_df.sctg2 == 8) | (domestic_df.sctg2 == 9) | (domestic_df.sctg2 == 21)]\n",
    "\n",
    "customer_specific_df"
   ],
   "id": "b5a1aca776a1d77a",
   "execution_count": 8,
   "outputs": []
  },
  {
   "metadata": {},
   "cell_type": "markdown",
   "source": "### Read and join Population, median income and ",
   "id": "8d9cbbe34ceb8a79"
  },
  {
   "metadata": {
    "ExecuteTime": {
     "end_time": "2025-06-12T01:54:27.422058Z",
     "start_time": "2025-06-12T01:54:27.280972Z"
    }
   },
   "cell_type": "code",
   "source": [
    "state_pop19 = pd.read_excel('freight_data/nst-est2019-01.xlsx', header=3, index_col=0)\n",
    "state_pop24 = pd.read_excel('freight_data/NST-EST2024-POP.xlsx', header=3, index_col=0)\n",
    "\n",
    "# state_pop00 = pd.read_csv('freight_data/st-est00int-agesex.csv') #header=3, index_col=0)"
   ],
   "id": "9a85ddd4965465b2",
   "execution_count": 52,
   "outputs": []
  },
  {
   "metadata": {
    "ExecuteTime": {
     "end_time": "2025-06-12T01:54:27.868400Z",
     "start_time": "2025-06-12T01:54:27.847411Z"
    }
   },
   "cell_type": "code",
   "source": [
    "# state_pop00 = state_pop00[state_pop00.NAME == 'Georgia']\n",
    "# # print(state_pop00.columns)\n",
    "# state_pop00 = state_pop00[['AGE','ESTIMATESBASE2000','POPESTIMATE2007', 'POPESTIMATE2008', 'POPESTIMATE2009']]\n",
    "# state_pop00.columns = ['AGE','2000','2007', '2008', '2009']\n",
    "# \n",
    "# # state_pop00 = pd.DataFrame(state_pop00.sum(), columns=['.Georgia'])\n",
    "# # state_pop00.columns = ['.Georgia']\n",
    "# print(state_pop00.columns)\n",
    "# print(state_pop00.sum())\n",
    "# state_pop00"
   ],
   "id": "b7a4564ee502e20b",
   "execution_count": 53,
   "outputs": []
  },
  {
   "metadata": {
    "ExecuteTime": {
     "end_time": "2025-06-12T01:10:17.477646Z",
     "start_time": "2025-06-12T01:10:17.461943Z"
    }
   },
   "cell_type": "code",
   "source": [
    "georgia_state_pop = state_pop19.loc['.Georgia']\n",
    "georgia_state_pop = pd.concat([georgia_state_pop, state_pop24.loc['.Georgia']])\n",
    "georgia_state_pop = georgia_state_pop.drop('Unnamed: 1')\n",
    "georgia_state_pop.loc[2010:2024]"
   ],
   "id": "c852124f6bdf16a9",
   "execution_count": 11,
   "outputs": []
  },
  {
   "metadata": {},
   "cell_type": "markdown",
   "source": [
    "### Median Income and Retail Trade Georgia\n",
    "- MEHOINUSGAA646N - Median Household Income with value of USD for that particular year.\n",
    "- MEHOINUSGAA672N - Real Median Household Income accounting for inflation.\n",
    "- GARETAILNQGSP - Georgia Retail Trade GDP "
   ],
   "id": "f3936ceaddcacece"
  },
  {
   "metadata": {
    "ExecuteTime": {
     "end_time": "2025-06-12T01:10:17.509291Z",
     "start_time": "2025-06-12T01:10:17.477646Z"
    }
   },
   "cell_type": "code",
   "source": [
    "retails = pd.read_csv('freight_data/fredgraph.csv')\n",
    "retails['observation_date'] = pd.to_datetime(retails['observation_date'])\n",
    "retails['year'] = retails['observation_date'].dt.year\n",
    "retails = retails.drop(columns=['observation_date'])\n",
    "retails = retails.set_index('year')"
   ],
   "id": "b78214781d033734",
   "execution_count": 12,
   "outputs": []
  },
  {
   "metadata": {
    "ExecuteTime": {
     "end_time": "2025-06-12T01:10:17.525173Z",
     "start_time": "2025-06-12T01:10:17.509291Z"
    }
   },
   "cell_type": "code",
   "source": "retails",
   "id": "d547e6f9de257347",
   "execution_count": 13,
   "outputs": []
  },
  {
   "metadata": {
    "ExecuteTime": {
     "end_time": "2025-06-12T01:10:17.540904Z",
     "start_time": "2025-06-12T01:10:17.525173Z"
    }
   },
   "cell_type": "code",
   "source": [
    "additional_info_df = pd.concat([retails, georgia_state_pop], axis=1)\n",
    "additional_info_df = additional_info_df.dropna()\n",
    "additional_info_df = additional_info_df.rename(columns={\".Georgia\": \"Population\"})\n",
    "additional_info_df"
   ],
   "id": "7ff0445849adb764",
   "execution_count": 14,
   "outputs": []
  },
  {
   "metadata": {},
   "cell_type": "markdown",
   "source": "### Aggregate shipment data based on both commodity and inbound/outbound",
   "id": "214fd45823718d18"
  },
  {
   "metadata": {
    "ExecuteTime": {
     "end_time": "2025-06-12T01:10:17.572024Z",
     "start_time": "2025-06-12T01:10:17.540904Z"
    }
   },
   "cell_type": "code",
   "source": [
    "# aggregated_shipment = customer_specific_df.groupby(by=['sctg2','dms_destst']).agg('sum')\n",
    "inbound_shipments = customer_specific_df[customer_specific_df.dms_destst == 13]\n",
    "outbound_shipments = customer_specific_df[customer_specific_df.dms_origst == 13]\n",
    "inbound_shipments = inbound_shipments.drop(columns=['dms_destst'])\n",
    "outbound_shipments = outbound_shipments.drop(columns=['dms_origst'])\n",
    "\n",
    "aggregated_inbound = inbound_shipments.groupby(by=['sctg2']).agg('sum')\n",
    "aggregated_outbound = outbound_shipments.groupby(by=['sctg2']).agg('sum')\n",
    "\n",
    "aggregated_inbound"
   ],
   "id": "6d0fc400238c3267",
   "execution_count": 15,
   "outputs": []
  },
  {
   "metadata": {
    "ExecuteTime": {
     "end_time": "2025-06-12T01:10:17.587755Z",
     "start_time": "2025-06-12T01:10:17.572024Z"
    }
   },
   "cell_type": "code",
   "source": [
    "tons_and_value_columns = [col_name for col_name in aggregated_inbound.columns if 'tons_' in col_name or 'value_' in col_name]\n",
    "annual_shipments_in = aggregated_inbound[tons_and_value_columns]\n",
    "annual_shipments_out = aggregated_outbound[tons_and_value_columns]\n",
    "annual_shipments_in = annual_shipments_in.transpose()\n",
    "annual_shipments_in"
   ],
   "id": "8d8d0b121c8f2cc2",
   "execution_count": 16,
   "outputs": []
  },
  {
   "metadata": {},
   "cell_type": "markdown",
   "source": [
    "Dataframe transformation\n",
    "- Extract metric and year separately and store in separate columns"
   ],
   "id": "cc6ef5362acfaa6b"
  },
  {
   "metadata": {
    "ExecuteTime": {
     "end_time": "2025-06-12T01:10:17.603646Z",
     "start_time": "2025-06-12T01:10:17.587755Z"
    }
   },
   "cell_type": "code",
   "source": [
    "def separate_metric_and_year(dataframe, metric_substring):\n",
    "    \"\"\"\n",
    "    Assumes the metric to be in the format 'metric_name_{year}'.\n",
    "    \"\"\"\n",
    "    metric_df = dataframe[dataframe.index.str.startswith(metric_substring)]\n",
    "    metric_df.columns = [metric_substring+str(col_name) for col_name in metric_df.columns]\n",
    "    metric_df.index = metric_df.index.str.replace(metric_substring, '')\n",
    "    return metric_df\n",
    "\n",
    "transformed_df = annual_shipments_in.copy()\n",
    "value_df = separate_metric_and_year(transformed_df, 'value_')\n",
    "tons_df = separate_metric_and_year(transformed_df, 'tons_')\n",
    "cvalue_df = separate_metric_and_year(transformed_df, 'current_value_')"
   ],
   "id": "3ab86e91fcac1443",
   "execution_count": 17,
   "outputs": []
  },
  {
   "metadata": {},
   "cell_type": "markdown",
   "source": "Make both index years same datetime format\n",
   "id": "23cc20ae88cfddf8"
  },
  {
   "metadata": {
    "ExecuteTime": {
     "end_time": "2025-06-12T01:10:17.619313Z",
     "start_time": "2025-06-12T01:10:17.603646Z"
    }
   },
   "cell_type": "code",
   "source": [
    "annual_shipments_inbound = pd.concat([tons_df, value_df, cvalue_df], axis=1)\n",
    "annual_shipments_inbound['year'] = pd.to_datetime(annual_shipments_inbound.index)\n",
    "annual_shipments_inbound['year'] = annual_shipments_inbound['year'].dt.year\n",
    "annual_shipments_inbound = annual_shipments_inbound.set_index('year')\n",
    "annual_shipments_inbound = pd.concat([annual_shipments_inbound, additional_info_df], axis=1)\n",
    "annual_shipments_inbound = annual_shipments_inbound.dropna()\n",
    "# MEHOINUSGAA646N does not account for inflation.\n",
    "annual_shipments_inbound = annual_shipments_inbound.drop(columns=['MEHOINUSGAA646N'])\n"
   ],
   "id": "1a2d63373ba10884",
   "execution_count": 18,
   "outputs": []
  },
  {
   "metadata": {
    "ExecuteTime": {
     "end_time": "2025-06-12T01:10:17.642504Z",
     "start_time": "2025-06-12T01:10:17.621317Z"
    }
   },
   "cell_type": "code",
   "source": "annual_shipments_inbound",
   "id": "66c6a660244cc6c0",
   "execution_count": 19,
   "outputs": []
  },
  {
   "metadata": {},
   "cell_type": "markdown",
   "source": [
    "#### Day 3\n",
    "Verifying units and standardize.\n",
    "- tons - (thousand tons)\n",
    "- value and current_value - (million dollars)\n",
    "- Median Income - (dollars)\n",
    "- Retail Trade GDP - (million dollars)\n",
    "- Population - (-)"
   ],
   "id": "1bb0449d55c0b4bc"
  },
  {
   "metadata": {
    "ExecuteTime": {
     "end_time": "2025-06-12T01:10:17.674786Z",
     "start_time": "2025-06-12T01:10:17.642504Z"
    }
   },
   "cell_type": "code",
   "source": [
    "annual_shipments_inbound['MEHOINUSGAA672N'] = annual_shipments_inbound['MEHOINUSGAA672N'].apply(lambda x: x*10e-6)\n",
    "annual_shipments_inbound"
   ],
   "id": "a1c7b841bd52ae62",
   "execution_count": 20,
   "outputs": []
  },
  {
   "metadata": {
    "ExecuteTime": {
     "end_time": "2025-06-12T01:10:17.705794Z",
     "start_time": "2025-06-12T01:10:17.674786Z"
    }
   },
   "cell_type": "code",
   "source": [
    "scaler = StandardScaler()\n",
    "shipment_features = annual_shipments_inbound[['MEHOINUSGAA672N','GARETAILNQGSP', 'Population']]\n",
    "scaled_shipments = scaler.fit_transform(shipment_features)\n",
    "scaled_shipments = pd.DataFrame(scaled_shipments, index=shipment_features.index, columns=shipment_features.columns)\n",
    "\n",
    "scaled_shipments"
   ],
   "id": "dbad6e58a94e9dae",
   "execution_count": 21,
   "outputs": []
  },
  {
   "metadata": {
    "ExecuteTime": {
     "end_time": "2025-06-12T01:10:17.721669Z",
     "start_time": "2025-06-12T01:10:17.705794Z"
    }
   },
   "cell_type": "code",
   "source": [
    "annual_shipments_inbound[['MEHOINUSGAA672N','GARETAILNQGSP','Population']] = shipment_features[['MEHOINUSGAA672N','GARETAILNQGSP','Population']]\n",
    "# annual_shipments_inbound['GARETAILNQGSP'] = shipment_features['GARETAILNQGSP']\n",
    "# annual_shipments_inbound['Population'] = shipment_features['Population']"
   ],
   "id": "6fd85460ccff7928",
   "execution_count": 22,
   "outputs": []
  },
  {
   "metadata": {
    "ExecuteTime": {
     "end_time": "2025-06-12T01:10:17.753175Z",
     "start_time": "2025-06-12T01:10:17.721669Z"
    }
   },
   "cell_type": "code",
   "source": "annual_shipments_inbound",
   "id": "2eb2a732fd1e7443",
   "execution_count": 23,
   "outputs": []
  },
  {
   "metadata": {},
   "cell_type": "markdown",
   "source": "### Correlation Analysis",
   "id": "98dcc615e24a36b3"
  },
  {
   "metadata": {
    "ExecuteTime": {
     "end_time": "2025-06-12T01:10:17.777740Z",
     "start_time": "2025-06-12T01:10:17.755182Z"
    }
   },
   "cell_type": "code",
   "source": [
    "main_features = ['MEHOINUSGAA672N','GARETAILNQGSP','Population']\n",
    "selected_features = annual_shipments_inbound[['tons_5']+main_features]\n",
    "\n",
    "selected_features.corr()"
   ],
   "id": "3160df769613f62e",
   "execution_count": 24,
   "outputs": []
  },
  {
   "metadata": {
    "ExecuteTime": {
     "end_time": "2025-06-12T01:10:17.793416Z",
     "start_time": "2025-06-12T01:10:17.777740Z"
    }
   },
   "cell_type": "code",
   "source": [
    "feature_correlations = annual_shipments_inbound.corr()\n",
    "\n",
    "feature_correlations = feature_correlations.drop(columns=['tons_5', 'tons_8', 'tons_9', 'tons_21', 'value_5', 'value_8','value_9', 'value_21', 'current_value_5', 'current_value_8','current_value_9', 'current_value_21'])"
   ],
   "id": "30f3d7c332dcb94a",
   "execution_count": 25,
   "outputs": []
  },
  {
   "metadata": {
    "ExecuteTime": {
     "end_time": "2025-06-12T01:10:17.809520Z",
     "start_time": "2025-06-12T01:10:17.793416Z"
    }
   },
   "cell_type": "code",
   "source": "feature_correlations",
   "id": "caf98cd81e8d86e4",
   "execution_count": 26,
   "outputs": []
  },
  {
   "metadata": {},
   "cell_type": "markdown",
   "source": "#### Day 7",
   "id": "2b97e5dc9ade9de7"
  },
  {
   "metadata": {
    "ExecuteTime": {
     "end_time": "2025-06-18T08:17:34.118918Z",
     "start_time": "2025-06-18T08:17:34.109028Z"
    }
   },
   "cell_type": "code",
   "source": [
    "import pandas as pd\n",
    "from sklearn.preprocessing import StandardScaler\n",
    "import plotly.express as px"
   ],
   "id": "fddde5c839af39cf",
   "execution_count": 24,
   "outputs": []
  },
  {
   "metadata": {
    "ExecuteTime": {
     "end_time": "2025-06-18T08:17:34.451827Z",
     "start_time": "2025-06-18T08:17:34.428921Z"
    }
   },
   "cell_type": "code",
   "source": "cleaned_df = pd.read_csv('freight_data/Georgia_Annual_Inbound_Shipments_2012-2023.csv', index_col=0)",
   "id": "9d9532db98fa6bf0",
   "execution_count": 25,
   "outputs": []
  },
  {
   "metadata": {
    "ExecuteTime": {
     "end_time": "2025-06-18T08:17:35.036399Z",
     "start_time": "2025-06-18T08:17:35.011537Z"
    }
   },
   "cell_type": "code",
   "source": "cleaned_df",
   "id": "d35cd53460ea7e3c",
   "execution_count": 26,
   "outputs": []
  },
  {
   "metadata": {
    "ExecuteTime": {
     "end_time": "2025-06-18T08:17:35.905600Z",
     "start_time": "2025-06-18T08:17:35.882814Z"
    }
   },
   "cell_type": "code",
   "source": [
    "scaler = StandardScaler()\n",
    "shipment_features = cleaned_df[['MEHOINUSGAA672N','GARETAILNQGSP', 'Population']]\n",
    "scaled_shipments = scaler.fit_transform(shipment_features)\n",
    "scaled_shipments = pd.DataFrame(scaled_shipments, index=shipment_features.index, columns=shipment_features.columns)\n",
    "\n",
    "scaled_shipments"
   ],
   "id": "3628801590fb4af9",
   "execution_count": 27,
   "outputs": []
  },
  {
   "metadata": {
    "ExecuteTime": {
     "end_time": "2025-06-18T08:17:36.750501Z",
     "start_time": "2025-06-18T08:17:36.727666Z"
    }
   },
   "cell_type": "code",
   "source": [
    "cleaned_df[['MEHOINUSGAA672N','GARETAILNQGSP','Population']] = shipment_features[['MEHOINUSGAA672N','GARETAILNQGSP','Population']]\n",
    "feature_correlations = cleaned_df.corr()\n",
    "\n",
    "feature_correlations = feature_correlations.drop(columns=['tons_5', 'tons_8', 'tons_9', 'tons_21', 'value_5', 'value_8','value_9', 'value_21'])"
   ],
   "id": "2ae6e767a829a070",
   "execution_count": 28,
   "outputs": []
  },
  {
   "metadata": {
    "ExecuteTime": {
     "end_time": "2025-06-18T08:17:37.587957Z",
     "start_time": "2025-06-18T08:17:37.566226Z"
    }
   },
   "cell_type": "code",
   "source": "feature_correlations",
   "id": "a4a69fb27466e77b",
   "execution_count": 29,
   "outputs": []
  },
  {
   "metadata": {},
   "cell_type": "markdown",
   "source": "#### Predict the commodities that will grow fastest",
   "id": "8980a75919ddbd0a"
  },
  {
   "metadata": {
    "ExecuteTime": {
     "end_time": "2025-06-18T08:17:39.412885Z",
     "start_time": "2025-06-18T08:17:39.405453Z"
    }
   },
   "cell_type": "code",
   "source": "cleaned_df[['MEHOINUSGAA672N','GARETAILNQGSP','Population']] = scaled_shipments[['MEHOINUSGAA672N','GARETAILNQGSP','Population']]",
   "id": "c139a4d04158d401",
   "execution_count": 30,
   "outputs": []
  },
  {
   "metadata": {
    "ExecuteTime": {
     "end_time": "2025-06-18T08:17:40.383012Z",
     "start_time": "2025-06-18T08:17:40.365901Z"
    }
   },
   "cell_type": "code",
   "source": "cleaned_df",
   "id": "1cc417de52c38204",
   "execution_count": 31,
   "outputs": []
  },
  {
   "metadata": {},
   "cell_type": "markdown",
   "source": "Add lagged value for commodities to be used as feature for future prediction: value_commodity_t-1",
   "id": "b177ae82511b134d"
  },
  {
   "metadata": {
    "ExecuteTime": {
     "end_time": "2025-06-18T08:18:17.500162Z",
     "start_time": "2025-06-18T08:18:17.484450Z"
    }
   },
   "cell_type": "code",
   "source": [
    "def add_lagging_commodity(data_frame):\n",
    "    tons_commodity = [col for col in data_frame.columns if 'tons' in col]\n",
    "    value_commodity = [col for col in data_frame.columns if 'value' in col]\n",
    "    for col in tons_commodity:\n",
    "        data_frame[f'{col}_lagged'] = data_frame[col].shift(1)\n",
    "    for col in value_commodity:\n",
    "        data_frame[f'{col}_lagged'] = data_frame[col].shift(1)\n",
    "    \n",
    "    return data_frame"
   ],
   "id": "9a170b101b6e8a95",
   "execution_count": 32,
   "outputs": []
  },
  {
   "metadata": {
    "ExecuteTime": {
     "end_time": "2025-06-18T08:18:32.528428Z",
     "start_time": "2025-06-18T08:18:32.496476Z"
    }
   },
   "cell_type": "code",
   "source": [
    "updated_cleaned_df = add_lagging_commodity(cleaned_df)\n",
    "updated_cleaned_df = updated_cleaned_df.dropna()\n",
    "updated_cleaned_df"
   ],
   "id": "83219539fc341d7d",
   "execution_count": 34,
   "outputs": []
  },
  {
   "metadata": {
    "ExecuteTime": {
     "end_time": "2025-06-18T08:18:43.299835Z",
     "start_time": "2025-06-18T08:18:43.203648Z"
    }
   },
   "cell_type": "code",
   "source": [
    "tons_columns = ['tons_5', 'tons_8', 'tons_9', 'tons_21']\n",
    "value_columns = ['value_5', 'value_8', 'value_9', 'value_21']\n",
    "fig = px.line(updated_cleaned_df, y= tons_columns, \n",
    "              title='Quantity of commodity shipped domestically in Georgia (2013-2023)')\n",
    "fig.update_layout(xaxis_title='Year', yaxis_title='Quantity (Million Tons)')\n",
    "fig.show()"
   ],
   "id": "3c4e22ae76c9009a",
   "execution_count": 35,
   "outputs": []
  },
  {
   "metadata": {
    "ExecuteTime": {
     "end_time": "2025-06-18T08:19:11.711930Z",
     "start_time": "2025-06-18T08:19:11.627950Z"
    }
   },
   "cell_type": "code",
   "source": [
    "fig = px.line(updated_cleaned_df, y= value_columns, \n",
    "              title='Value of commodity shipped domestically in Georgia (2013-2023)')\n",
    "fig.update_layout(xaxis_title='Year', yaxis_title='Value (Million Dollars)')\n",
    "fig.show()"
   ],
   "id": "b9f301aa42ab971e",
   "execution_count": 37,
   "outputs": []
  },
  {
   "metadata": {},
   "cell_type": "markdown",
   "source": "Dropping 2023 for final forecast due to lack of 2024 data for features",
   "id": "363659f9c1003862"
  },
  {
   "metadata": {
    "ExecuteTime": {
     "end_time": "2025-06-18T08:23:47.752531Z",
     "start_time": "2025-06-18T08:23:47.710888Z"
    }
   },
   "cell_type": "code",
   "source": [
    "final_forecast_data = updated_cleaned_df\n",
    "updated_cleaned_df = updated_cleaned_df.drop(2023)\n",
    "updated_cleaned_df"
   ],
   "id": "a927e37be872de45",
   "execution_count": 39,
   "outputs": []
  },
  {
   "metadata": {},
   "cell_type": "markdown",
   "source": "",
   "id": "c8c8ff89283e59cd"
  },
  {
   "metadata": {
    "ExecuteTime": {
     "end_time": "2025-06-18T08:48:34.835513Z",
     "start_time": "2025-06-18T08:48:34.710497Z"
    }
   },
   "cell_type": "code",
   "source": "forecast_df = pd.read_csv('freight_data/forecast_prep.csv', index_col=0)",
   "id": "8100942814b9908e",
   "execution_count": 40,
   "outputs": []
  },
  {
   "metadata": {},
   "cell_type": "markdown",
   "source": [
    "## Day 10\n",
    "\n",
    "Check differences between FAF4 and 5 data as well as preprocessing data differences"
   ],
   "id": "408e87757c3c71a9"
  },
  {
   "metadata": {
    "ExecuteTime": {
     "end_time": "2025-06-21T08:58:46.196998Z",
     "start_time": "2025-06-21T08:58:44.745656Z"
    }
   },
   "cell_type": "code",
   "source": [
    "import pandas as pd\n",
    "import matplotlib.pyplot as plt\n",
    "import numpy as np\n",
    "from utils.visualization import filter_georgia_value, commodity_based_value_trend, plot_from_data_dict"
   ],
   "id": "4ee4309c0c8af08",
   "execution_count": 1,
   "outputs": []
  },
  {
   "metadata": {
    "ExecuteTime": {
     "end_time": "2025-06-20T23:20:50.456888Z",
     "start_time": "2025-06-20T23:20:33.199074Z"
    }
   },
   "cell_type": "code",
   "source": [
    "df_2012 = pd.read_csv('freight_data/FAF5.6.1_Reprocessed_1997-2012_State.csv')\n",
    "df_2012faf4 = pd.read_csv('freight_data/FAF4.5.1_State.csv')\n",
    "df_2013 = pd.read_csv('freight_data/FAF4.5.1_State_2013.csv')\n",
    "df_2016 = pd.read_csv('freight_data/FAF4.5.1_State_2016.csv')\n",
    "df_2017faf4 = pd.read_csv('freight_data/FAF4.5.1_State_2017.csv')\n",
    "df_2017faf5 = pd.read_csv('freight_data/FAF5.6.1_State.csv')\n",
    "df_2018faf4 = pd.read_csv('freight_data/FAF4.5.1_State_2018.csv')\n",
    "df_2018faf5 = pd.read_csv('freight_data/FAF5.6.1_State_2018-2023.csv')"
   ],
   "id": "9984777fd649d9b5",
   "execution_count": 31,
   "outputs": []
  },
  {
   "metadata": {
    "ExecuteTime": {
     "end_time": "2025-06-21T08:30:32.314816Z",
     "start_time": "2025-06-21T08:30:32.300884Z"
    }
   },
   "cell_type": "code",
   "source": [
    "# def filter_georgia_value(data_frame, year, commodity_code):\n",
    "#     relevant_cols = [col for col in data_frame.columns if 'dms_dest' in col or 'sctg2' in col]\n",
    "#     year_specific_col = [col for col in data_frame.columns if f'value_{year}' in col]\n",
    "#     data_frame = data_frame[(data_frame[relevant_cols[0]] == 13) & (data_frame['sctg2'] == commodity_code)]\n",
    "#     data_frame = data_frame[relevant_cols + year_specific_col]\n",
    "#     data_frame = data_frame.dropna()\n",
    "#     data_frame = data_frame.drop(columns=[relevant_cols[0],'sctg2'])\n",
    "#     data_frame = data_frame.sum(axis=0)\n",
    "#     return data_frame"
   ],
   "id": "44dedb31cef8bab7",
   "execution_count": 64,
   "outputs": []
  },
  {
   "metadata": {
    "ExecuteTime": {
     "end_time": "2025-06-20T23:20:50.725375Z",
     "start_time": "2025-06-20T23:20:50.520132Z"
    }
   },
   "cell_type": "code",
   "source": [
    "# df_2012 = filter_georgia_value(df_2012, 2012, 5)\n",
    "# df_2013 = filter_georgia_value(df_2013, 2013, 5)\n",
    "# df_2016 = filter_georgia_value(df_2016, 2016, 5)\n",
    "# df_2017faf4 = filter_georgia_value(df_2017faf4, 2017, 5)\n",
    "# df_2017faf5 = filter_georgia_value(df_2017faf5, 2017, 5)\n",
    "# df_2018faf4 = filter_georgia_value(df_2018faf4, 2018, 5)\n",
    "# df_2018faf5 = filter_georgia_value(df_2018faf5, 2018, 5)"
   ],
   "id": "e9214196b99c65a3",
   "execution_count": 33,
   "outputs": []
  },
  {
   "metadata": {
    "ExecuteTime": {
     "end_time": "2025-06-20T23:29:00.613651Z",
     "start_time": "2025-06-20T23:29:00.346449Z"
    }
   },
   "cell_type": "code",
   "source": [
    "# combined_sums = pd.DataFrame({\n",
    "#     '2012': df_2012.iloc[0],\n",
    "#     '2013': df_2013.iloc[0],\n",
    "#     '2016': df_2016.iloc[0],\n",
    "#     '2017': df_2017faf4.iloc[0],\n",
    "#     '2017faf5': df_2017faf5.iloc[0],\n",
    "#     '2018faf4': df_2018faf4.iloc[0],\n",
    "#     '2018faf5': df_2018faf5.iloc[0]\n",
    "# })"
   ],
   "id": "77104f82ec363d14",
   "execution_count": 51,
   "outputs": []
  },
  {
   "metadata": {
    "ExecuteTime": {
     "end_time": "2025-06-21T01:05:34.086025Z",
     "start_time": "2025-06-21T01:05:33.483168Z"
    }
   },
   "cell_type": "code",
   "source": [
    "# plot_data = {\n",
    "#     2012: {'FAF4': df_2012.iloc[0], 'FAF5': np.nan}, \n",
    "#     2013: {'FAF4': df_2013.iloc[0], 'FAF5': np.nan}, \n",
    "#     2016: {'FAF4': df_2016.iloc[0], 'FAF5': np.nan}, \n",
    "#     2017: {'FAF4': df_2017faf4.iloc[0], 'FAF5': df_2017faf5.iloc[0]}, \n",
    "#     2018: {'FAF4': df_2018faf4.iloc[0], 'FAF5': df_2018faf5.iloc[0]}, \n",
    "# }\n",
    "# \n",
    "# plot_df = pd.DataFrame.from_dict(plot_data, orient='index')\n",
    "# plot_df.index.name = 'Year' \n",
    "# \n",
    "# plot_df.index = plot_df.index.astype(int)\n",
    "# \n",
    "# plt.figure()\n",
    "# plot_df.plot(ax=plt.gca(), marker='o', linewidth=2) \n",
    "# \n",
    "# plt.title('Value Over Years (FAF4 vs FAF5 Methodologies)')\n",
    "# plt.xlabel('Year')\n",
    "# plt.ylabel('Total Value for Commodity Group 5 (Meat/Seafood in Georgia)')\n",
    "# plt.grid(True)\n",
    "# plt.legend(title='FAF Version')\n",
    "# plt.xticks(plot_df.index) \n",
    "# plt.tight_layout()\n",
    "# plt.show()"
   ],
   "id": "6aa00fe041be0f51",
   "execution_count": 56,
   "outputs": []
  },
  {
   "metadata": {
    "ExecuteTime": {
     "end_time": "2025-06-21T08:29:58.322384Z",
     "start_time": "2025-06-21T08:29:58.244327Z"
    }
   },
   "cell_type": "code",
   "source": [
    "# def commodity_based_value_trend(commodity_code):\n",
    "#     df_2012 = pd.read_csv('freight_data/FAF5.6.1_Reprocessed_1997-2012_State.csv')\n",
    "#     df_2012faf4 = pd.read_csv('freight_data/FAF4.5.1_State.csv')\n",
    "#     df_2013 = pd.read_csv('freight_data/FAF4.5.1_State_2013.csv')\n",
    "#     df_2014 = pd.read_csv('freight_data/FAF4.5.1_State_2014.csv')\n",
    "#     df_2015 = pd.read_csv('freight_data/FAF4.5.1_State_2015.csv')\n",
    "#     df_2016 = pd.read_csv('freight_data/FAF4.5.1_State_2016.csv')\n",
    "#     df_2017faf4 = pd.read_csv('freight_data/FAF4.5.1_State_2017.csv')\n",
    "#     df_2017faf5 = pd.read_csv('freight_data/FAF5.6.1_State.csv')\n",
    "#     df_2018faf4 = pd.read_csv('freight_data/FAF4.5.1_State_2018.csv')\n",
    "#     df_2018faf5 = pd.read_csv('freight_data/FAF5.6.1_State_2018-2023.csv')\n",
    "#     \n",
    "#     df_2012 = filter_georgia_value(df_2012, 2012, commodity_code)\n",
    "#     df_2012faf4 = filter_georgia_value(df_2012faf4, 2012, commodity_code)\n",
    "#     df_2013 = filter_georgia_value(df_2013, 2013, commodity_code)\n",
    "#     df_2014 = filter_georgia_value(df_2014, 2014, commodity_code)\n",
    "#     df_2015 = filter_georgia_value(df_2015, 2015, commodity_code)\n",
    "#     df_2016 = filter_georgia_value(df_2016, 2016, commodity_code)\n",
    "#     df_2017faf4 = filter_georgia_value(df_2017faf4, 2017, commodity_code)\n",
    "#     df_2017faf5 = filter_georgia_value(df_2017faf5, 2017, commodity_code)\n",
    "#     df_2018faf4 = filter_georgia_value(df_2018faf4, 2018, commodity_code)\n",
    "#     df_2018faf5 = filter_georgia_value(df_2018faf5, 2018, commodity_code)\n",
    "# \n",
    "#     plot_data_dict = {\n",
    "#         2012: {'FAF4': df_2012faf4.iloc[0], 'FAF5': df_2012.iloc[0]}, \n",
    "#         2013: {'FAF4': df_2013.iloc[0], 'FAF5': np.nan}, \n",
    "#         2014: {'FAF4': df_2014.iloc[0], 'FAF5': np.nan},\n",
    "#         2015: {'FAF4': df_2015.iloc[0], 'FAF5': np.nan},\n",
    "#         2016: {'FAF4': df_2016.iloc[0], 'FAF5': np.nan}, \n",
    "#         2017: {'FAF4': df_2017faf4.iloc[0], 'FAF5': df_2017faf5.iloc[0]}, \n",
    "#         2018: {'FAF4': df_2018faf4.iloc[0], 'FAF5': df_2018faf5.iloc[0]}, \n",
    "# }\n",
    "#     return plot_data_dict\n",
    "#     \n",
    "# def plot_from_data_dict(plot_data, commodity_code):\n",
    "#     plot_df = pd.DataFrame.from_dict(plot_data, orient='index')\n",
    "#     plot_df.index.name = 'Year' \n",
    "#     \n",
    "#     plot_df.index = plot_df.index.astype(int)\n",
    "#     \n",
    "#     plt.figure()\n",
    "#     plot_df.plot(ax=plt.gca(), marker='o', linewidth=2) \n",
    "#     \n",
    "#     commodity_mapping = {5: 'Meat/seafood', 8: 'Alcoholic beverages', \n",
    "#                          9: 'Tobacco prods.', 21: 'Pharmaceuticals'}\n",
    "#     \n",
    "#     plt.title(f'Value/Years: {commodity_mapping[commodity_code]}\\n in Georgia (FAF4 vs FAF5 Methodologies)')\n",
    "#     plt.xlabel('Year')\n",
    "#     plt.ylabel(f'Shipment Value Sum\\n ({commodity_mapping[commodity_code]} in Georgia)')\n",
    "#     plt.grid(True)\n",
    "#     plt.legend(title='FAF Version')\n",
    "#     plt.xticks(plot_df.index) \n",
    "#     plt.tight_layout()\n",
    "#     plt.show()"
   ],
   "id": "ac0dcf7f1c35415c",
   "execution_count": 62,
   "outputs": []
  },
  {
   "metadata": {
    "ExecuteTime": {
     "end_time": "2025-06-21T08:59:12.591559Z",
     "start_time": "2025-06-21T08:58:52.778036Z"
    }
   },
   "cell_type": "code",
   "source": [
    "plot_data_trend = commodity_based_value_trend(commodity_code=8)\n",
    "plot_from_data_dict(plot_data_trend, commodity_code=8)"
   ],
   "id": "4416fba41ed786bd",
   "execution_count": 2,
   "outputs": []
  },
  {
   "metadata": {
    "ExecuteTime": {
     "end_time": "2025-06-21T08:59:28.772886Z",
     "start_time": "2025-06-21T08:59:12.595559Z"
    }
   },
   "cell_type": "code",
   "source": [
    "plot_data_trend = commodity_based_value_trend(commodity_code=9)\n",
    "plot_from_data_dict(plot_data_trend, commodity_code=9)"
   ],
   "id": "5c0d0e71d0e65d4c",
   "execution_count": 3,
   "outputs": []
  },
  {
   "metadata": {
    "ExecuteTime": {
     "end_time": "2025-06-21T08:59:46.775762Z",
     "start_time": "2025-06-21T08:59:28.775400Z"
    }
   },
   "cell_type": "code",
   "source": [
    "plot_data_trend = commodity_based_value_trend(commodity_code=21)\n",
    "plot_from_data_dict(plot_data_trend, commodity_code=21)"
   ],
   "id": "192fd158a889026d",
   "execution_count": 4,
   "outputs": []
  },
  {
   "metadata": {},
   "cell_type": "markdown",
   "source": "## Day 11",
   "id": "a517b30fa89c6dee"
  },
  {
   "metadata": {
    "ExecuteTime": {
     "end_time": "2025-06-22T09:20:25.168646Z",
     "start_time": "2025-06-22T09:20:25.061341Z"
    }
   },
   "cell_type": "code",
   "source": [
    "import pandas as pd\n",
    "import matplotlib.pyplot as plt\n",
    "import plotly.express as px"
   ],
   "id": "bc517b736fb61903",
   "execution_count": 8,
   "outputs": []
  },
  {
   "metadata": {
    "ExecuteTime": {
     "end_time": "2025-06-22T09:19:57.235190Z",
     "start_time": "2025-06-22T09:19:57.203478Z"
    }
   },
   "cell_type": "code",
   "source": [
    "df = pd.read_csv('../freight_data/processed/Georga_AIS_2012-2023_minus_inflation.csv', index_col=0)\n",
    "\n",
    "georgia_with_inflation = pd.read_csv('../freight_data/processed/Georgia_Annual_Inbound_Shipments_2012-2023.csv', index_col=0)"
   ],
   "id": "141c9ec8cc8201c1",
   "execution_count": 3,
   "outputs": []
  },
  {
   "metadata": {
    "ExecuteTime": {
     "end_time": "2025-06-22T09:19:57.266944Z",
     "start_time": "2025-06-22T09:19:57.235190Z"
    }
   },
   "cell_type": "code",
   "source": "df",
   "id": "4f7260fc3573cd80",
   "execution_count": 4,
   "outputs": []
  },
  {
   "metadata": {
    "ExecuteTime": {
     "end_time": "2025-06-22T09:19:57.906132Z",
     "start_time": "2025-06-22T09:19:57.874351Z"
    }
   },
   "cell_type": "code",
   "source": "georgia_with_inflation",
   "id": "9913f1e0748dcfdb",
   "execution_count": 5,
   "outputs": []
  },
  {
   "metadata": {
    "ExecuteTime": {
     "end_time": "2025-06-22T09:19:59.673564Z",
     "start_time": "2025-06-22T09:19:58.574511Z"
    }
   },
   "cell_type": "code",
   "source": [
    "combined_df = pd.concat([df[['value_5', 'tons_5']], georgia_with_inflation[['value_5', 'tons_5']]], axis=1)\n",
    "\n",
    "combined_df.plot(figsize=(10, 6), marker='o')\n",
    "plt.xlabel(\"Year\")\n",
    "plt.ylabel(\"Value / Tons\")\n",
    "plt.title(\"Shipment Trends for A and B\")\n",
    "plt.grid(True)\n",
    "plt.tight_layout()\n",
    "plt.show()"
   ],
   "id": "edc464e36b14c800",
   "execution_count": 6,
   "outputs": []
  },
  {
   "metadata": {
    "ExecuteTime": {
     "end_time": "2025-06-22T09:21:22.968247Z",
     "start_time": "2025-06-22T09:21:22.936545Z"
    }
   },
   "cell_type": "code",
   "source": [
    "df_renamed = df[['value_5', 'tons_5']].rename(columns={\n",
    "    'value_5': 'Value (Original)',\n",
    "    'tons_5': 'Tons (Original)'\n",
    "})\n",
    "georgia_renamed = georgia_with_inflation[['value_5', 'tons_5']].rename(columns={\n",
    "    'value_5': 'Value (Inflation-Adjusted)',\n",
    "    'tons_5': 'Tons (Inflation-Adjusted)'\n",
    "})\n",
    "combined_df = pd.concat([df_renamed, georgia_renamed], axis=1)"
   ],
   "id": "72bcad1922164faa",
   "execution_count": 9,
   "outputs": []
  },
  {
   "metadata": {
    "ExecuteTime": {
     "end_time": "2025-06-22T09:23:56.970303Z",
     "start_time": "2025-06-22T09:23:56.924776Z"
    }
   },
   "cell_type": "code",
   "source": [
    "import plotly.graph_objects as go\n",
    "\n",
    "fig = go.Figure()\n",
    "\n",
    "for column in combined_df.columns:\n",
    "    fig.add_trace(go.Scatter(\n",
    "        x=combined_df.index,\n",
    "        y=combined_df[column],\n",
    "        mode='lines+markers',\n",
    "        name=column\n",
    "    ))\n",
    "\n",
    "fig.update_layout(\n",
    "    title='Shipment Trends (Original vs Inflation-Adjusted)',\n",
    "    xaxis_title='Year',\n",
    "    yaxis_title='Value (Million Dollars) / Tons (Million Tons)',\n",
    "    legend_title='Metric',\n",
    "    template='plotly_white',\n",
    "    # width=900,\n",
    "    # height=500\n",
    ")\n",
    "\n",
    "fig.show()\n"
   ],
   "id": "c0b3c959f1fe14fe",
   "execution_count": 12,
   "outputs": []
  },
  {
   "metadata": {},
   "cell_type": "code",
   "execution_count": null,
   "source": "",
   "id": "81fa1ab14b36d936",
   "outputs": []
  }
 ],
 "metadata": {
  "kernelspec": {
   "display_name": "Python 3",
   "language": "python",
   "name": "python3"
  },
  "language_info": {
   "codemirror_mode": {
    "name": "ipython",
    "version": 2
   },
   "file_extension": ".py",
   "mimetype": "text/x-python",
   "name": "python",
   "nbconvert_exporter": "python",
   "pygments_lexer": "ipython2",
   "version": "2.7.6"
  }
 },
 "nbformat": 4,
 "nbformat_minor": 5
}
